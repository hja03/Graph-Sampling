{
 "cells": [
  {
   "cell_type": "markdown",
   "metadata": {},
   "source": [
    "## 1 - Load Dataset"
   ]
  },
  {
   "cell_type": "code",
   "execution_count": null,
   "metadata": {},
   "outputs": [],
   "source": [
    "from rep_graph_sample.dataset import ogb_dataset_to_nx_graph\n",
    "\n",
    "dataset_name = 'ogbn-arxiv'\n",
    "\n",
    "graph = ogb_dataset_to_nx_graph(dataset_name)\n",
    "\n",
    "print(f'# of Nodes: {graph.number_of_nodes():_}\\n# of Edges: {graph.number_of_edges():_}')"
   ]
  },
  {
   "cell_type": "markdown",
   "metadata": {},
   "source": [
    "## 2 - Sample Random Subgraph"
   ]
  },
  {
   "cell_type": "code",
   "execution_count": null,
   "metadata": {},
   "outputs": [],
   "source": [
    "import random\n",
    "from tqdm import tqdm\n",
    "import numpy as np\n",
    "from rep_graph_sample.graph import SubgraphHandler\n",
    "\n",
    "subgraph_size = 100\n",
    "\n",
    "# Get an initial subgraph node set\n",
    "#subgraph_nodes = list(np.random.choice(graph.nodes(), size=(subgraph_size), replace=False))\n",
    "subgraph_nodes = list(np.load('0.151-60k.npy'))\n",
    "\n",
    "subgraph = SubgraphHandler(\n",
    "    full_graph = graph, \n",
    "    initial_node_set = subgraph_nodes\n",
    ")\n",
    "\n",
    "print(f'Initial KS Distance: {subgraph.ks_distance():.5}')"
   ]
  },
  {
   "cell_type": "markdown",
   "metadata": {},
   "source": [
    "## 3 - Metropolis-Hastings"
   ]
  },
  {
   "cell_type": "code",
   "execution_count": null,
   "metadata": {},
   "outputs": [],
   "source": [
    "from rep_graph_sample.logger import RunHistory\n",
    "\n",
    "logger = RunHistory(subgraph_handler=subgraph,\n",
    "                    save_interval=100)"
   ]
  },
  {
   "cell_type": "code",
   "execution_count": null,
   "metadata": {},
   "outputs": [],
   "source": [
    "num_iters = 1_000\n",
    "\n",
    "print(f'Saving every {logger.save_interval:_} iterations for a total of {num_iters // logger.save_interval} saves over {num_iters:_} iterations.')\n",
    "\n",
    "exponent = 110"
   ]
  },
  {
   "cell_type": "code",
   "execution_count": null,
   "metadata": {},
   "outputs": [],
   "source": [
    "prev_ks_dist = subgraph.ks_distance()\n",
    "\n",
    "for i in (pbar := tqdm(range(num_iters))):\n",
    "    # Randomly pick a node to remove and add to the subgraph\n",
    "    remove_node = np.random.choice(subgraph.nodes)\n",
    "    add_node = np.random.choice(subgraph.nodes_not_in_subgraph)\n",
    "\n",
    "    subgraph.remove(remove_node)\n",
    "    subgraph.add(add_node)\n",
    "\n",
    "    # Calculate the new Degree KS Distance\n",
    "    new_ks_dist = subgraph.ks_distance()\n",
    "\n",
    "    ratio = prev_ks_dist / new_ks_dist\n",
    "    if ratio >= 1.0:\n",
    "        # Accept\n",
    "        prev_ks_dist = new_ks_dist\n",
    "        accepted = True\n",
    "    else:\n",
    "        score = ratio ** exponent\n",
    "        prop = random.random()\n",
    "        if score > prop:\n",
    "            # Accept\n",
    "            prev_ks_dist = new_ks_dist\n",
    "            accepted = True\n",
    "        else:\n",
    "            # Reject and revert back\n",
    "            subgraph.add(remove_node)\n",
    "            subgraph.remove(add_node)\n",
    "            accepted = False\n",
    "\n",
    "    pbar.set_description(f'KS Dist: {prev_ks_dist:.5}')\n",
    "    logger.log(ratio=ratio, accepted=accepted)"
   ]
  },
  {
   "cell_type": "code",
   "execution_count": null,
   "metadata": {},
   "outputs": [],
   "source": [
    "import matplotlib.pyplot as plt\n",
    "\n",
    "logger.plot_distances()\n",
    "\n",
    "print(f'Acceptance Ratio: {logger.acceptance_ratio:.2%}')"
   ]
  },
  {
   "cell_type": "code",
   "execution_count": null,
   "metadata": {},
   "outputs": [],
   "source": [
    "plt.ecdf(subgraph.full_graph_degree_sequence, label='True')\n",
    "\n",
    "degrees = [list(dict(graph.subgraph(nodes).degree()).values()) for nodes in logger.saved_subgraphs]\n",
    "all_degrees = []\n",
    "for d in degrees:\n",
    "    all_degrees += d\n",
    "\n",
    "plt.ecdf(all_degrees, label='Mean Sample')\n",
    "\n",
    "plt.xscale('log')\n",
    "plt.legend()"
   ]
  },
  {
   "cell_type": "code",
   "execution_count": null,
   "metadata": {},
   "outputs": [],
   "source": [
    "node_sets = [set(nodes) for nodes in logger.saved_subgraphs]\n",
    "edge_sets = [set(graph.subgraph(nodes).edges()) for nodes in logger.saved_subgraphs]\n",
    "\n",
    "def jaccard_sim_matrix(set_list: list[set]):\n",
    "    matrix = np.zeros((len(set_list), len(set_list)))\n",
    "\n",
    "    for i, set_i in enumerate(set_list):\n",
    "        for j, set_j in enumerate(set_list):\n",
    "            if i != j:\n",
    "                matrix[i,j] = len(set_i.intersection(set_j)) / len(set_i.union(set_j))\n",
    "            else:\n",
    "                matrix[i,j] = 1\n",
    "    return matrix\n",
    "\n",
    "\n",
    "fig, axs = plt.subplots(1, 2, figsize=(12, 4), sharey=True)\n",
    "node_image = axs[0].imshow(jaccard_sim_matrix(node_sets), vmin=0, vmax=1, origin='lower')\n",
    "fig.colorbar(node_image, ax=axs[0])\n",
    "\n",
    "axs[0].set_xlabel('Sampled Subgraph #')\n",
    "axs[0].set_ylabel('Sampled Subgraph #')\n",
    "axs[0].set_title('Jaccard - Nodes')\n",
    "\n",
    "\n",
    "edge_image = axs[1].imshow(jaccard_sim_matrix(edge_sets), vmin=0, vmax=1, origin='lower')\n",
    "fig.colorbar(edge_image, ax=axs[1])\n",
    "\n",
    "axs[1].set_xlabel('Sampled Subgraph #')\n",
    "#axs[1].set_ylabel('Sampled Subgraph #')\n",
    "axs[1].set_title('Jaccard - Edges')\n",
    "\n",
    "fig.suptitle('Diversity of Samples')\n",
    "\n",
    "print()"
   ]
  },
  {
   "cell_type": "code",
   "execution_count": null,
   "metadata": {},
   "outputs": [],
   "source": [
    "# Add degree distribution PDF calc and viewing\n",
    "# Same for easy CDF viewing\n",
    "# Think about and possibly implement KL Divergence"
   ]
  },
  {
   "cell_type": "code",
   "execution_count": null,
   "metadata": {},
   "outputs": [],
   "source": [
    "fig, ax = plt.subplots(1,1)\n",
    "\n",
    "moving_window_size = 200\n",
    "\n",
    "ax.plot(np.convolve(logger.accept_rejects, np.ones(moving_window_size,) / moving_window_size, mode='valid'))\n",
    "\n",
    "ax.set_xlabel('Iteration')\n",
    "ax.set_ylabel('Proportion of Accepted Samples')\n",
    "ax.set_ylim(bottom=0, top=1)\n",
    "ax.grid(axis='y', linestyle='dashed')"
   ]
  },
  {
   "cell_type": "code",
   "execution_count": null,
   "metadata": {},
   "outputs": [],
   "source": [
    "_ = plt.hist(logger.distances, bins=20, edgecolor='k')"
   ]
  }
 ],
 "metadata": {
  "kernelspec": {
   "display_name": "venv",
   "language": "python",
   "name": "python3"
  },
  "language_info": {
   "codemirror_mode": {
    "name": "ipython",
    "version": 3
   },
   "file_extension": ".py",
   "mimetype": "text/x-python",
   "name": "python",
   "nbconvert_exporter": "python",
   "pygments_lexer": "ipython3",
   "version": "3.12.2"
  },
  "orig_nbformat": 4
 },
 "nbformat": 4,
 "nbformat_minor": 2
}
