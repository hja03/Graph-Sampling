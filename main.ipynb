{
 "cells": [
  {
   "cell_type": "markdown",
   "metadata": {},
   "source": [
    "## 1 - Load Dataset"
   ]
  },
  {
   "cell_type": "code",
   "execution_count": null,
   "metadata": {},
   "outputs": [],
   "source": [
    "from rep_graph_sample.dataset import ogb_dataset_to_nx_graph\n",
    "\n",
    "dataset_name = 'ogbn-arxiv'\n",
    "\n",
    "graph = ogb_dataset_to_nx_graph(dataset_name)\n",
    "\n",
    "print(f'# of Nodes: {graph.number_of_nodes():_}\\n# of Edges: {graph.number_of_edges():_}')"
   ]
  },
  {
   "cell_type": "markdown",
   "metadata": {},
   "source": [
    "## 2 - Sample Random Subgraph"
   ]
  },
  {
   "cell_type": "code",
   "execution_count": null,
   "metadata": {},
   "outputs": [],
   "source": [
    "import random\n",
    "from tqdm import tqdm\n",
    "import numpy as np\n",
    "from rep_graph_sample.graph import SubgraphHandler\n",
    "\n",
    "subgraph_size = 100\n",
    "\n",
    "# Get an initial subgraph node set\n",
    "#subgraph_nodes = list(np.random.choice(graph.nodes(), size=(subgraph_size), replace=False))\n",
    "subgraph_nodes = list(np.load('0.151-60k.npy'))\n",
    "\n",
    "subgraph = SubgraphHandler(\n",
    "    full_graph = graph, \n",
    "    initial_node_set = subgraph_nodes\n",
    ")\n",
    "\n",
    "print(f'Initial KS Distance: {subgraph.ks_distance():.5}')"
   ]
  },
  {
   "cell_type": "markdown",
   "metadata": {},
   "source": [
    "## 3 - Metropolis-Hastings"
   ]
  },
  {
   "cell_type": "code",
   "execution_count": null,
   "metadata": {},
   "outputs": [],
   "source": [
    "num_iters = 1_000\n",
    "\n",
    "exponent = 150"
   ]
  },
  {
   "cell_type": "code",
   "execution_count": null,
   "metadata": {},
   "outputs": [],
   "source": [
    "from rep_graph_sample.logger import RunHistory\n",
    "\n",
    "logger = RunHistory(subgraph_handler=subgraph,\n",
    "                    save_interval=100,\n",
    "                    p=exponent)\n",
    "\n",
    "print(f'Saving every {logger.save_interval:_} iterations for a total of {num_iters // logger.save_interval} saves over {num_iters:_} iterations.')"
   ]
  },
  {
   "cell_type": "code",
   "execution_count": null,
   "metadata": {},
   "outputs": [],
   "source": [
    "prev_ks_dist = subgraph.ks_distance()\n",
    "\n",
    "for i in (pbar := tqdm(range(num_iters))):\n",
    "    # Randomly pick a node to remove and add to the subgraph\n",
    "    remove_node = np.random.choice(subgraph.nodes)\n",
    "    add_node = np.random.choice(subgraph.nodes_not_in_subgraph)\n",
    "\n",
    "    subgraph.remove(remove_node)\n",
    "    subgraph.add(add_node)\n",
    "\n",
    "    # Calculate the new Degree KS Distance\n",
    "    new_ks_dist = subgraph.ks_distance()\n",
    "\n",
    "    ratio = prev_ks_dist / new_ks_dist\n",
    "    if ratio >= 1.0:\n",
    "        # Accept\n",
    "        prev_ks_dist = new_ks_dist\n",
    "        accepted = True\n",
    "    else:\n",
    "        score = ratio ** exponent\n",
    "        prop = random.random()\n",
    "        if score > prop:\n",
    "            # Accept\n",
    "            prev_ks_dist = new_ks_dist\n",
    "            accepted = True\n",
    "        else:\n",
    "            # Reject and revert back\n",
    "            subgraph.add(remove_node)\n",
    "            subgraph.remove(add_node)\n",
    "            accepted = False\n",
    "\n",
    "    pbar.set_description(f'KS Dist: {prev_ks_dist:.5}')\n",
    "    logger.log(ratio=ratio, accepted=accepted)"
   ]
  },
  {
   "cell_type": "code",
   "execution_count": null,
   "metadata": {},
   "outputs": [],
   "source": [
    "import matplotlib.pyplot as plt\n",
    "\n",
    "logger.plot_distances()\n",
    "\n",
    "print(f'Acceptance Ratio: {logger.acceptance_ratio:.2%}')"
   ]
  },
  {
   "cell_type": "code",
   "execution_count": null,
   "metadata": {},
   "outputs": [],
   "source": [
    "logger.plot_degree_distributions()"
   ]
  },
  {
   "cell_type": "code",
   "execution_count": null,
   "metadata": {},
   "outputs": [],
   "source": [
    "logger.plot_sample_similarity()"
   ]
  },
  {
   "cell_type": "code",
   "execution_count": null,
   "metadata": {},
   "outputs": [],
   "source": [
    "logger.plot_acceptance_ratio()"
   ]
  },
  {
   "cell_type": "code",
   "execution_count": null,
   "metadata": {},
   "outputs": [],
   "source": [
    "_ = plt.hist(logger.distances, bins=20, edgecolor='k')"
   ]
  }
 ],
 "metadata": {
  "kernelspec": {
   "display_name": "venv",
   "language": "python",
   "name": "python3"
  },
  "language_info": {
   "codemirror_mode": {
    "name": "ipython",
    "version": 3
   },
   "file_extension": ".py",
   "mimetype": "text/x-python",
   "name": "python",
   "nbconvert_exporter": "python",
   "pygments_lexer": "ipython3",
   "version": "3.12.2"
  },
  "orig_nbformat": 4
 },
 "nbformat": 4,
 "nbformat_minor": 2
}
