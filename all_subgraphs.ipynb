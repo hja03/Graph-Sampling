{
 "cells": [
  {
   "cell_type": "code",
   "execution_count": 21,
   "metadata": {},
   "outputs": [
    {
     "name": "stdout",
     "output_type": "stream",
     "text": [
      "Total number of graphs: 268_435_456\n"
     ]
    }
   ],
   "source": [
    "import networkx as nx\n",
    "import numpy as np\n",
    "from itertools import chain, combinations\n",
    "from tqdm import tqdm\n",
    "\n",
    "def powerset(iterable):\n",
    "    \"powerset([1,2,3]) --> () (1,) (2,) (3,) (1,2) (1,3) (2,3) (1,2,3)\"\n",
    "    s = list(iterable)  # allows duplicate elements\n",
    "    return chain.from_iterable(combinations(s, r) for r in range(1, len(s)+1))\n",
    "\n",
    "number_of_nodes = 8\n",
    "\n",
    "nodes = np.arange(number_of_nodes)\n",
    "possible_edges = list(combinations(nodes, 2))\n",
    "\n",
    "num_graphs = 2 ** len(possible_edges)\n",
    "\n",
    "print(f'Total number of graphs: {num_graphs:_}')"
   ]
  },
  {
   "cell_type": "code",
   "execution_count": 22,
   "metadata": {},
   "outputs": [
    {
     "name": "stdout",
     "output_type": "stream",
     "text": [
      "# of Nodes: 8\n",
      "# of Edges: 20\n",
      "\n",
      "Number of subgraphs: 1_048_576 = 0.391%\n"
     ]
    }
   ],
   "source": [
    "fixed_graph = nx.erdos_renyi_graph(number_of_nodes, 0.7)\n",
    "fixed_graph_edges = set(fixed_graph.edges())\n",
    "\n",
    "print(f'# of Nodes: {fixed_graph.number_of_nodes():_}\\n# of Edges: {fixed_graph.number_of_edges():_}')\n",
    "\n",
    "n_subgraphs = 2 ** len(fixed_graph_edges)\n",
    "\n",
    "print(f'\\nNumber of subgraphs: {n_subgraphs:_} = {(n_subgraphs) / num_graphs:.3%}')"
   ]
  },
  {
   "cell_type": "code",
   "execution_count": 23,
   "metadata": {},
   "outputs": [],
   "source": [
    "def ks_distance(graph_1, graph_2):\n",
    "    subgraph_degrees = np.sort(list(dict(graph_1.degree()).values()))\n",
    "    full_degrees = np.sort(list(dict(graph_2.degree()).values()))\n",
    "\n",
    "    all_degrees = np.concatenate([subgraph_degrees, full_degrees])\n",
    "\n",
    "    cdf1 = np.searchsorted(subgraph_degrees, all_degrees, side='right') / len(subgraph_degrees)\n",
    "    cdf2 = np.searchsorted(full_degrees, all_degrees, side='right') / len(full_degrees)\n",
    "\n",
    "    dist = np.max(np.abs(cdf1 - cdf2))\n",
    "    return dist"
   ]
  },
  {
   "cell_type": "code",
   "execution_count": 24,
   "metadata": {},
   "outputs": [
    {
     "name": "stderr",
     "output_type": "stream",
     "text": [
      "100%|██████████| 1048575/1048575 [01:38<00:00, 10621.86it/s]\n"
     ]
    }
   ],
   "source": [
    "n_bins = 20\n",
    "\n",
    "bins = np.linspace(0, 1, n_bins+1)\n",
    "histogram = np.zeros((n_bins,))\n",
    "\n",
    "for edge_set in tqdm(powerset(fixed_graph_edges), total=n_subgraphs-1):\n",
    "    graph = nx.Graph(edge_set)\n",
    "\n",
    "    dist = ks_distance(fixed_graph, graph)\n",
    "    hist, _ = np.histogram([dist], bins=bins)\n",
    "    histogram += hist"
   ]
  },
  {
   "cell_type": "code",
   "execution_count": 47,
   "metadata": {},
   "outputs": [
    {
     "name": "stdout",
     "output_type": "stream",
     "text": [
      "\n"
     ]
    },
    {
     "data": {
      "image/png": "[encoded data removed]",
      "text/plain": [
       "<Figure size 1200x400 with 3 Axes>"
      ]
     },
     "metadata": {},
     "output_type": "display_data"
    }
   ],
   "source": [
    "import matplotlib.pyplot as plt\n",
    "\n",
    "bin_centers = np.array([(bins[i] + bins[i+1]) / 2 for i in range(n_bins)])\n",
    "\n",
    "fig, axs = plt.subplots(1, 3, figsize=(12,4), sharey=True)\n",
    "\n",
    "p = 1\n",
    "\n",
    "axs[0].bar(bin_centers, histogram * (1 / (bin_centers ** p)) / np.sum(histogram * (1 / (bin_centers ** p))), width=1/n_bins, edgecolor='k')\n",
    "axs[1].bar(bin_centers, histogram * (1 / (bin_centers ** 4)) / np.sum(histogram * (1 / (bin_centers ** 4))), width=1/n_bins, edgecolor='k')\n",
    "axs[2].bar(bin_centers, histogram * (1 / (bin_centers ** 5)) / np.sum(histogram * (1 / (bin_centers ** 5))), width=1/n_bins, edgecolor='k')\n",
    "\n",
    "axs[0].set_title(f'p = {p}')\n",
    "axs[1].set_title(f'p = 4')\n",
    "axs[2].set_title(f'p = 5')\n",
    "\n",
    "\n",
    "axs[0].set_ylabel('P(DD)')\n",
    "axs[1].set_xlabel('Degree Distribution KS Distance')\n",
    "\n",
    "print()"
   ]
  }
 ],
 "metadata": {
  "kernelspec": {
   "display_name": "venv",
   "language": "python",
   "name": "python3"
  },
  "language_info": {
   "codemirror_mode": {
    "name": "ipython",
    "version": 3
   },
   "file_extension": ".py",
   "mimetype": "text/x-python",
   "name": "python",
   "nbconvert_exporter": "python",
   "pygments_lexer": "ipython3",
   "version": "3.12.2"
  },
  "orig_nbformat": 4
 },
 "nbformat": 4,
 "nbformat_minor": 2
}
